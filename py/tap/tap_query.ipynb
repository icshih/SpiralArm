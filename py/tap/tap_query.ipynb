{
 "cells": [
  {
   "cell_type": "code",
   "execution_count": 1,
   "metadata": {},
   "outputs": [
    {
     "name": "stdout",
     "output_type": "stream",
     "text": [
      "Created TAP+ (v1.0) - Connection:\n",
      "\tHost: gea.esac.esa.int\n",
      "\tUse HTTPS: False\n",
      "\tPort: 80\n",
      "\tSSL Port: 443\n"
     ]
    }
   ],
   "source": [
    "from astroquery.gaia import Gaia"
   ]
  },
  {
   "cell_type": "code",
   "execution_count": 4,
   "metadata": {},
   "outputs": [],
   "source": [
    "query = 'SELECT source_id, original_ext_source_id AS ucac4_id FROM gaiadr1.ucac4_best_neighbour'"
   ]
  },
  {
   "cell_type": "code",
   "execution_count": 5,
   "metadata": {},
   "outputs": [
    {
     "name": "stdout",
     "output_type": "stream",
     "text": [
      "Launched query: 'SELECT source_id, original_ext_source_id AS ucac4_id FROM gaiadr1.ucac4_best_neighbour'\n",
      "Retrieving async. results...\n"
     ]
    }
   ],
   "source": [
    "job = Gaia.launch_job_async(query, output_file='/Users/icshih/Documents/Researches/SpiralArm/data/saved/gaia_source_xm_ucac4.vot', dump_to_file=True)"
   ]
  },
  {
   "cell_type": "code",
   "execution_count": 6,
   "metadata": {},
   "outputs": [
    {
     "name": "stdout",
     "output_type": "stream",
     "text": [
      "Jobid: 1510750628405O\n",
      "Phase: None\n",
      "Owner: None\n",
      "Output file: /Users/icshih/Documents/Researches/SpiralArm/data/saved/gaia_source_xm_ucac4.vot\n",
      "Results: None\n"
     ]
    }
   ],
   "source": [
    "print(job)"
   ]
  },
  {
   "cell_type": "code",
   "execution_count": 7,
   "metadata": {},
   "outputs": [
    {
     "data": {
      "text/plain": [
       "'1510750628405O'"
      ]
     },
     "execution_count": 7,
     "metadata": {},
     "output_type": "execute_result"
    }
   ],
   "source": [
    "job.get_jobid()"
   ]
  },
  {
   "cell_type": "code",
   "execution_count": 9,
   "metadata": {},
   "outputs": [
    {
     "name": "stderr",
     "output_type": "stream",
     "text": [
      "WARNING: W35: /Users/icshih/Documents/Researches/SpiralArm/data/saved/gaia_source_xm_ucac4.vot:4:0: W35: 'value' attribute required for INFO elements [astropy.io.votable.tree]\n",
      "WARNING: W35: /Users/icshih/Documents/Researches/SpiralArm/data/saved/gaia_source_xm_ucac4.vot:5:0: W35: 'value' attribute required for INFO elements [astropy.io.votable.tree]\n",
      "WARNING: W35: /Users/icshih/Documents/Researches/SpiralArm/data/saved/gaia_source_xm_ucac4.vot:6:0: W35: 'value' attribute required for INFO elements [astropy.io.votable.tree]\n",
      "WARNING: W35: /Users/icshih/Documents/Researches/SpiralArm/data/saved/gaia_source_xm_ucac4.vot:7:0: W35: 'value' attribute required for INFO elements [astropy.io.votable.tree]\n",
      "WARNING: W35: /Users/icshih/Documents/Researches/SpiralArm/data/saved/gaia_source_xm_ucac4.vot:8:0: W35: 'value' attribute required for INFO elements [astropy.io.votable.tree]\n",
      "WARNING: W35: /Users/icshih/Documents/Researches/SpiralArm/data/saved/gaia_source_xm_ucac4.vot:9:0: W35: 'value' attribute required for INFO elements [astropy.io.votable.tree]\n"
     ]
    }
   ],
   "source": [
    "result = job.get_data()"
   ]
  },
  {
   "cell_type": "code",
   "execution_count": 10,
   "metadata": {},
   "outputs": [
    {
     "name": "stdout",
     "output_type": "stream",
     "text": [
      "     source_id     \n",
      "-------------------\n",
      "6660951082995930752\n",
      "5513511812084946944\n",
      "5935343880486375808\n",
      "5949431235778608384\n",
      "5935533511882397184\n",
      "5406305477003011456\n",
      "5982587696111260544\n",
      "5322678271864636928\n",
      "5890263869391221632\n",
      "5926155472304518400\n",
      "                ...\n",
      "5887668235985741952\n",
      "6461163463673868032\n",
      "5353984529006148992\n",
      "5310643842229912832\n",
      "5929891677205848704\n",
      "5896568606501435520\n",
      "5932706633127847168\n",
      "5346674842560371072\n",
      "5353887771984655360\n",
      "5344977364107905408\n",
      "5932142755465057280\n",
      "Length = 3000000 rows\n"
     ]
    }
   ],
   "source": [
    "print(result['source_id'])"
   ]
  },
  {
   "cell_type": "code",
   "execution_count": 13,
   "metadata": {},
   "outputs": [],
   "source": [
    "import re"
   ]
  },
  {
   "cell_type": "code",
   "execution_count": null,
   "metadata": {},
   "outputs": [],
   "source": [
    "print(result['ucac4_id'])"
   ]
  },
  {
   "cell_type": "code",
   "execution_count": null,
   "metadata": {},
   "outputs": [],
   "source": [
    "print(result['ucac4_id'])"
   ]
  },
  {
   "cell_type": "code",
   "execution_count": null,
   "metadata": {},
   "outputs": [],
   "source": [
    "print(result['ucac4_id'])"
   ]
  },
  {
   "cell_type": "code",
   "execution_count": 1,
   "metadata": {},
   "outputs": [],
   "source": [
    "from astroquery.vizier import Vizier"
   ]
  },
  {
   "cell_type": "code",
   "execution_count": 1,
   "metadata": {},
   "outputs": [],
   "source": [
    "from astropy.io.votable import parse"
   ]
  },
  {
   "cell_type": "code",
   "execution_count": null,
   "metadata": {
    "scrolled": false
   },
   "outputs": [
    {
     "name": "stderr",
     "output_type": "stream",
     "text": [
      "WARNING: W35: /Users/icshih/Documents/Researches/SpiralArm/data/saved/gaia_source_xm_ucac4.vot:4:0: W35: 'value' attribute required for INFO elements [astropy.io.votable.tree]\n",
      "WARNING: W35: /Users/icshih/Documents/Researches/SpiralArm/data/saved/gaia_source_xm_ucac4.vot:5:0: W35: 'value' attribute required for INFO elements [astropy.io.votable.tree]\n",
      "WARNING: W35: /Users/icshih/Documents/Researches/SpiralArm/data/saved/gaia_source_xm_ucac4.vot:6:0: W35: 'value' attribute required for INFO elements [astropy.io.votable.tree]\n",
      "WARNING: W35: /Users/icshih/Documents/Researches/SpiralArm/data/saved/gaia_source_xm_ucac4.vot:7:0: W35: 'value' attribute required for INFO elements [astropy.io.votable.tree]\n",
      "WARNING: W35: /Users/icshih/Documents/Researches/SpiralArm/data/saved/gaia_source_xm_ucac4.vot:8:0: W35: 'value' attribute required for INFO elements [astropy.io.votable.tree]\n",
      "WARNING: W35: /Users/icshih/Documents/Researches/SpiralArm/data/saved/gaia_source_xm_ucac4.vot:9:0: W35: 'value' attribute required for INFO elements [astropy.io.votable.tree]\n"
     ]
    }
   ],
   "source": [
    "table = parse('/Users/icshih/Documents/Researches/SpiralArm/data/saved/gaia_source_xm_ucac4.vot')"
   ]
  },
  {
   "cell_type": "code",
   "execution_count": 6,
   "metadata": {},
   "outputs": [],
   "source": [
    "uid = table.get_field_by_id_or_name('ucac4_id')"
   ]
  },
  {
   "cell_type": "code",
   "execution_count": 13,
   "metadata": {},
   "outputs": [
    {
     "name": "stdout",
     "output_type": "stream",
     "text": [
      "<FIELD ID=\"ucac4_id\" arraysize=\"*\" datatype=\"char\" name=\"ucac4_id\" ucd=\"meta.id.cross\"/>\n"
     ]
    }
   ],
   "source": [
    "print(uid)"
   ]
  },
  {
   "cell_type": "code",
   "execution_count": 18,
   "metadata": {},
   "outputs": [],
   "source": [
    "t = table.get_first_table()"
   ]
  }
 ],
 "metadata": {
  "kernelspec": {
   "display_name": "Python 3",
   "language": "python",
   "name": "python3"
  },
  "language_info": {
   "codemirror_mode": {
    "name": "ipython",
    "version": 3
   },
   "file_extension": ".py",
   "mimetype": "text/x-python",
   "name": "python",
   "nbconvert_exporter": "python",
   "pygments_lexer": "ipython3",
   "version": "3.4.1"
  }
 },
 "nbformat": 4,
 "nbformat_minor": 1
}
